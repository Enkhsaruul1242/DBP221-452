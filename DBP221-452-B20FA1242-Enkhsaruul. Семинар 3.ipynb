{
 "cells": [
  {
   "cell_type": "code",
   "execution_count": 2,
   "id": "31a4731c",
   "metadata": {},
   "outputs": [
    {
     "name": "stdout",
     "output_type": "stream",
     "text": [
      "Array from 0 to 50:\n",
      "[ 0  1  2  3  4  5  6  7  8  9 10 11 12 13 14 15 16 17 18 19 20 21 22 23\n",
      " 24 25 26 27 28 29 30 31 32 33 34 35 36 37 38 39 40 41 42 43 44 45 46 47\n",
      " 48 49]\n"
     ]
    }
   ],
   "source": [
    "import numpy as np\n",
    "x = np.arange(50)\n",
    "print(x)"
   ]
  },
  {
   "cell_type": "code",
   "execution_count": 18,
   "id": "fdfddbb6",
   "metadata": {},
   "outputs": [
    {
     "data": {
      "text/plain": [
       "array([0., 0., 0., 0., 0., 0., 0., 0., 0., 0., 1., 1., 1., 1., 1., 1., 1.,\n",
       "       1., 1., 1., 6., 6., 6., 6., 6., 6., 6., 6., 6., 6.])"
      ]
     },
     "execution_count": 18,
     "metadata": {},
     "output_type": "execute_result"
    }
   ],
   "source": [
    "a=np.ones(10)\n",
    "b=np.zeros(10)\n",
    "c=np.array([6,6,6,6,6,6,6,6,6,6])\n",
    "np.concatenate([a,b,c])"
   ]
  },
  {
   "cell_type": "code",
   "execution_count": 26,
   "id": "a62ce46e",
   "metadata": {},
   "outputs": [
    {
     "name": "stdout",
     "output_type": "stream",
     "text": [
      "[[20 21 22 23]\n",
      " [24 25 26 27]\n",
      " [28 29 30 31]]\n"
     ]
    }
   ],
   "source": [
    "x = np.arange(20, 32)\n",
    "a= np. reshape(x,(3,4),'C')\n",
    "print(a)"
   ]
  },
  {
   "cell_type": "code",
   "execution_count": 30,
   "id": "f607b2be",
   "metadata": {},
   "outputs": [
    {
     "name": "stdout",
     "output_type": "stream",
     "text": [
      "[[1. 0. 0.]\n",
      " [0. 1. 0.]\n",
      " [0. 0. 1.]]\n"
     ]
    }
   ],
   "source": [
    "a= np.identity(3)\n",
    "print(a)"
   ]
  },
  {
   "cell_type": "code",
   "execution_count": 33,
   "id": "d406f63f",
   "metadata": {},
   "outputs": [
    {
     "name": "stdout",
     "output_type": "stream",
     "text": [
      "[[1 0 0 0 0]\n",
      " [0 2 0 0 0]\n",
      " [0 0 3 0 0]\n",
      " [0 0 0 4 0]\n",
      " [0 0 0 0 5]]\n"
     ]
    }
   ],
   "source": [
    "a= np.diag([1,2,3,4,5])\n",
    "print(a)"
   ]
  },
  {
   "cell_type": "code",
   "execution_count": 51,
   "id": "93360afb",
   "metadata": {},
   "outputs": [
    {
     "name": "stdout",
     "output_type": "stream",
     "text": [
      "50\n",
      "[ 6  8 10 12 14]\n",
      "[15 35]\n"
     ]
    }
   ],
   "source": [
    "a=np.array([[1,2,3,4,5],\n",
    "           [5,6,7,8,9]])\n",
    "print(np.nansum(a))\n",
    "print(a.sum(axis=0))\n",
    "print(a.sum(axis=1))"
   ]
  },
  {
   "cell_type": "code",
   "execution_count": null,
   "id": "27108238",
   "metadata": {},
   "outputs": [],
   "source": [
    "#Seasons\n",
    "Seasons = [\"2011\",\"2012\",\"2013\",\"2014\",\"2015\",\"2016\",\"2017\",\"2018\",\"2019\",\"2020\",\"2021\"]\n",
    "Sdict = {\"2011\":0,\"2012\":1,\"2013\":2,\"2014\":3,\"2015\":4,\"2016\":5,\"2017\":6,\"2018\":7,\"2019\":8,\"2020\":9,\"2021\":10}\n",
    "\n",
    "#Players\n",
    "Players = [\"FernandoTorres\",\"WayneRooney\",\"DarrenBent\",\"JohnTerry\",\"MikelArteta\",\"JoeHart\",\"CharlesNZogbial\",\"BranislavIvanovic\",\"DavidDeGea\",\"RomeluLukaku\"]\n",
    "Pdict = {\"FernandoTorres\":0,\"WayneRooney\":1,\"DarrenBen\":2,\"JohnTerry\":3,\"MikelArteta\":4,\"JoeHart\":5,\"CharlesNZogbial\":6,\"BranislavIvanovic\":7,\"DavidDeGea\":8,\"RomeluLukaku\":9}\n",
    "\n",
    "#Salaries\n",
    "FernandoTorre_Salary = [16938935,]\n",
    "WayneRooney_Salary = [9360000,]\n",
    "DarrenBen_Salary = [6826000,]\n",
    "JohnTerry_Salary = [7020000]\n",
    "MikelArteta_Salary = [6540000]\n",
    "JoeHart_Salary = [4160000]\n",
    "CharlesNZogbial_Salary = [3980000]\n",
    "BranislavIvanovic_Salary = [3900000]\n",
    "DavidDeGea_Salary = [3900000]\n",
    "RomeluLukaku_Salary = [4084305]\n",
    "#Matrix\n",
    "Salary = np.array([FernandoTorre_Salary, WayneRooney_Salary, DarrenBen_Salary, JohnTerry_Salary, MikelArteta_Salary, JoeHart_Salary, CharlesNZogbial_Salary, BranislavIvanovic_Salary, DavidDeGea_Salary, RomeluLukaku_Salary])\n",
    "\n",
    "#Games\n",
    "FernandoTorre_G = [340362,]\n",
    "WayneRooney_G = [180000,]\n",
    "DarrenBen_G = [137769,]\n",
    "JohnTerry_G = []\n",
    "MikelArteta_G = []\n",
    "JoeHart_G = []\n",
    "CharlesNZogbial_G = []\n",
    "BranislavIvanovic_G = []\n",
    "DavidDeGea_G = []\n",
    "RomeluLukaku_G = []\n",
    "#Matrix\n",
    "Games = np.array([FernandoTorre_G, WayneRooney_G, DarrenBen_G, JohnTerry_G, MikelArteta_G, JoeHart_G, CharlesNZogbial_G, BranislavIvanovic_G, DavidDeGea_G, RomeluLukaku_G])\n",
    "\n",
    "#Points\n",
    "WayneRooney_PTS = []\n",
    "DarrenBen_PTS = []\n",
    "JohnTerry_PTS = []\n",
    "MikelArteta_PTS = []\n",
    "JoeHart_PTS = []\n",
    "CharlesNZogbial_PTS = []\n",
    "BranislavIvanovic_PTS = []\n",
    "DavidDeGea_PTS = []\n",
    "RomeluLukaku_PTS = []\n",
    "#Matrix\n",
    "Points = np.array([FernandoTorre_PTS, WayneRooney_PTS, DarrenBen_PTS, JohnTerry_PTS, MikelArteta_PTS, JoeHart_PTS, CharlesNZogbial_PTS, BranislavIvanovic_PTS, DavidDeGea_PTS, RomeluLukaku_PTS])"
   ]
  }
 ],
 "metadata": {
  "kernelspec": {
   "display_name": "Python 3 (ipykernel)",
   "language": "python",
   "name": "python3"
  },
  "language_info": {
   "codemirror_mode": {
    "name": "ipython",
    "version": 3
   },
   "file_extension": ".py",
   "mimetype": "text/x-python",
   "name": "python",
   "nbconvert_exporter": "python",
   "pygments_lexer": "ipython3",
   "version": "3.9.7"
  }
 },
 "nbformat": 4,
 "nbformat_minor": 5
}
