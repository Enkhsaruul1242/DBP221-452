{
 "cells": [
  {
   "cell_type": "code",
   "execution_count": 34,
   "id": "3f0f7b4c",
   "metadata": {},
   "outputs": [
    {
     "name": "stdout",
     "output_type": "stream",
     "text": [
      "Орц: 4\n",
      "*\n",
      "**\n",
      "***\n",
      "****\n"
     ]
    }
   ],
   "source": [
    "урт = int(input(\"Орц: \"))\n",
    "for i in range(урт):\n",
    "    for j in range(i+1):\n",
    "        print(\"*\", end=\"\")\n",
    "    print(\"\")\n"
   ]
  },
  {
   "cell_type": "code",
   "execution_count": 35,
   "id": "76f20d67",
   "metadata": {},
   "outputs": [
    {
     "name": "stdout",
     "output_type": "stream",
     "text": [
      "Орц: 2\n",
      "*\n",
      "\n",
      "**\n",
      "\n"
     ]
    }
   ],
   "source": [
    "урт = int(input(\"Орц: \"))\n",
    "for i in range(урт):\n",
    "    for j in range(i+1):\n",
    "        print(\"*\", end=\"\")\n",
    "    print(\"\\n\")\n"
   ]
  },
  {
   "cell_type": "code",
   "execution_count": 46,
   "id": "f53abe43",
   "metadata": {},
   "outputs": [
    {
     "name": "stdout",
     "output_type": "stream",
     "text": [
      "Гарц: Oyun , Bat\n"
     ]
    }
   ],
   "source": [
    "students = {\n",
    " 'Bat': 18,\n",
    " 'Oyun': 22,\n",
    " 'Dulam': 21,\n",
    " 'Suren': 20\n",
    "}\n",
    "\n",
    "a = max(students, key= lambda x: students[x])\n",
    "a1 = min(students, key= lambda x: students[x])\n",
    "print(\"Гарц:\",new_val,',',new_val1)"
   ]
  },
  {
   "cell_type": "code",
   "execution_count": 81,
   "id": "41455ed0",
   "metadata": {},
   "outputs": [
    {
     "name": "stdout",
     "output_type": "stream",
     "text": [
      "0,21,42,63,84,105,126,147,168,189,210,231,252,273,294,315,336,357,378,399,420,441,462,483,504,525,546,567,588,609,630,651,672,693,714,735,756,777,798,819,840,861,882,903,924,945,966,987\n"
     ]
    }
   ],
   "source": [
    "nl=[]\n",
    "for x in range(1000):\n",
    "    if (x%7==0) and (x%3==0):\n",
    "        nl.append(str(x))\n",
    "print (','.join(nl))"
   ]
  },
  {
   "cell_type": "code",
   "execution_count": null,
   "id": "c71dee3b",
   "metadata": {},
   "outputs": [],
   "source": []
  },
  {
   "cell_type": "code",
   "execution_count": 70,
   "id": "1d37dd1f",
   "metadata": {},
   "outputs": [
    {
     "name": "stdout",
     "output_type": "stream",
     "text": [
      "42\n"
     ]
    }
   ],
   "source": []
  }
 ],
 "metadata": {
  "kernelspec": {
   "display_name": "Python 3 (ipykernel)",
   "language": "python",
   "name": "python3"
  },
  "language_info": {
   "codemirror_mode": {
    "name": "ipython",
    "version": 3
   },
   "file_extension": ".py",
   "mimetype": "text/x-python",
   "name": "python",
   "nbconvert_exporter": "python",
   "pygments_lexer": "ipython3",
   "version": "3.9.7"
  }
 },
 "nbformat": 4,
 "nbformat_minor": 5
}
